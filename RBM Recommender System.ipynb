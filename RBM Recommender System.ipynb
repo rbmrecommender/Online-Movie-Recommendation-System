{
 "cells": [
  {
   "cell_type": "code",
   "execution_count": 1,
   "id": "d90f099f",
   "metadata": {},
   "outputs": [
    {
     "name": "stdout",
     "output_type": "stream",
     "text": [
      "System version: 3.8.8 (default, Apr 13 2021, 15:08:03) [MSC v.1916 64 bit (AMD64)]\n",
      "Pandas version: 1.2.4\n",
      "Tensorflow version: 2.3.0\n"
     ]
    }
   ],
   "source": [
    "#This is our main program\n",
    "#importing various libraries and modules\n",
    "\n",
    "import sys\n",
    "import pandas as pd\n",
    "import matplotlib.pyplot as plt\n",
    "%matplotlib inline \n",
    "import logging\n",
    "import numpy as np\n",
    "import tensorflow as tf\n",
    "tf.get_logger().setLevel(logging.ERROR)\n",
    "from rbm.rbm import RBM\n",
    "from datasets.python_splitters import numpy_stratified_split\n",
    "from datasets.sparse import AffinityMatrix\n",
    "from utils.timer import Timer\n",
    "from utils.plot import line_graph\n",
    "from datasets import movielens \n",
    "from evaluation.python_evaluation import ( map_at_k, ndcg_at_k, precision_at_k, recall_at_k,)\n",
    "%load_ext autoreload\n",
    "%autoreload 2\n",
    "print(\"System version: {}\".format(sys.version))\n",
    "print(\"Pandas version: {}\".format(pd.__version__))\n",
    "print(\"Tensorflow version: {}\".format(tf.__version__))"
   ]
  },
  {
   "cell_type": "code",
   "execution_count": 2,
   "id": "d76d3411",
   "metadata": {},
   "outputs": [
    {
     "name": "stderr",
     "output_type": "stream",
     "text": [
      "100%|██████████| 4.81k/4.81k [00:25<00:00, 192KB/s]\n"
     ]
    },
    {
     "data": {
      "text/html": [
       "<div>\n",
       "<style scoped>\n",
       "    .dataframe tbody tr th:only-of-type {\n",
       "        vertical-align: middle;\n",
       "    }\n",
       "\n",
       "    .dataframe tbody tr th {\n",
       "        vertical-align: top;\n",
       "    }\n",
       "\n",
       "    .dataframe thead th {\n",
       "        text-align: right;\n",
       "    }\n",
       "</style>\n",
       "<table border=\"1\" class=\"dataframe\">\n",
       "  <thead>\n",
       "    <tr style=\"text-align: right;\">\n",
       "      <th></th>\n",
       "      <th>userID</th>\n",
       "      <th>movieID</th>\n",
       "      <th>rating</th>\n",
       "      <th>timestamp</th>\n",
       "    </tr>\n",
       "  </thead>\n",
       "  <tbody>\n",
       "    <tr>\n",
       "      <th>0</th>\n",
       "      <td>196</td>\n",
       "      <td>242</td>\n",
       "      <td>3.0</td>\n",
       "      <td>881250949</td>\n",
       "    </tr>\n",
       "    <tr>\n",
       "      <th>1</th>\n",
       "      <td>186</td>\n",
       "      <td>302</td>\n",
       "      <td>3.0</td>\n",
       "      <td>891717742</td>\n",
       "    </tr>\n",
       "    <tr>\n",
       "      <th>2</th>\n",
       "      <td>22</td>\n",
       "      <td>377</td>\n",
       "      <td>1.0</td>\n",
       "      <td>878887116</td>\n",
       "    </tr>\n",
       "    <tr>\n",
       "      <th>3</th>\n",
       "      <td>244</td>\n",
       "      <td>51</td>\n",
       "      <td>2.0</td>\n",
       "      <td>880606923</td>\n",
       "    </tr>\n",
       "    <tr>\n",
       "      <th>4</th>\n",
       "      <td>166</td>\n",
       "      <td>346</td>\n",
       "      <td>1.0</td>\n",
       "      <td>886397596</td>\n",
       "    </tr>\n",
       "  </tbody>\n",
       "</table>\n",
       "</div>"
      ],
      "text/plain": [
       "   userID  movieID  rating  timestamp\n",
       "0     196      242     3.0  881250949\n",
       "1     186      302     3.0  891717742\n",
       "2      22      377     1.0  878887116\n",
       "3     244       51     2.0  880606923\n",
       "4     166      346     1.0  886397596"
      ]
     },
     "execution_count": 2,
     "metadata": {},
     "output_type": "execute_result"
    }
   ],
   "source": [
    "#We firstly create a dataframe for data size 100k\n",
    "#This part will download data of required size for us, convert it to dataframe and print 5 rows\n",
    "\n",
    "MOVIELENS_DATA_SIZE = '100k'\n",
    "mldf_100k = movielens.load_pandas_df(\n",
    "    size=MOVIELENS_DATA_SIZE,\n",
    "    header=['userID','movieID','rating','timestamp']\n",
    ") \n",
    "mldf_100k.head()"
   ]
  },
  {
   "cell_type": "code",
   "execution_count": 3,
   "id": "e8920f92",
   "metadata": {},
   "outputs": [
    {
     "name": "stderr",
     "output_type": "stream",
     "text": [
      "100%|██████████| 5.78k/5.78k [00:26<00:00, 218KB/s]\n"
     ]
    },
    {
     "data": {
      "text/html": [
       "<div>\n",
       "<style scoped>\n",
       "    .dataframe tbody tr th:only-of-type {\n",
       "        vertical-align: middle;\n",
       "    }\n",
       "\n",
       "    .dataframe tbody tr th {\n",
       "        vertical-align: top;\n",
       "    }\n",
       "\n",
       "    .dataframe thead th {\n",
       "        text-align: right;\n",
       "    }\n",
       "</style>\n",
       "<table border=\"1\" class=\"dataframe\">\n",
       "  <thead>\n",
       "    <tr style=\"text-align: right;\">\n",
       "      <th></th>\n",
       "      <th>userID</th>\n",
       "      <th>movieID</th>\n",
       "      <th>rating</th>\n",
       "      <th>timestamp</th>\n",
       "    </tr>\n",
       "  </thead>\n",
       "  <tbody>\n",
       "    <tr>\n",
       "      <th>0</th>\n",
       "      <td>1</td>\n",
       "      <td>1193</td>\n",
       "      <td>5.0</td>\n",
       "      <td>978300760</td>\n",
       "    </tr>\n",
       "    <tr>\n",
       "      <th>1</th>\n",
       "      <td>1</td>\n",
       "      <td>661</td>\n",
       "      <td>3.0</td>\n",
       "      <td>978302109</td>\n",
       "    </tr>\n",
       "    <tr>\n",
       "      <th>2</th>\n",
       "      <td>1</td>\n",
       "      <td>914</td>\n",
       "      <td>3.0</td>\n",
       "      <td>978301968</td>\n",
       "    </tr>\n",
       "    <tr>\n",
       "      <th>3</th>\n",
       "      <td>1</td>\n",
       "      <td>3408</td>\n",
       "      <td>4.0</td>\n",
       "      <td>978300275</td>\n",
       "    </tr>\n",
       "    <tr>\n",
       "      <th>4</th>\n",
       "      <td>1</td>\n",
       "      <td>2355</td>\n",
       "      <td>5.0</td>\n",
       "      <td>978824291</td>\n",
       "    </tr>\n",
       "  </tbody>\n",
       "</table>\n",
       "</div>"
      ],
      "text/plain": [
       "   userID  movieID  rating  timestamp\n",
       "0       1     1193     5.0  978300760\n",
       "1       1      661     3.0  978302109\n",
       "2       1      914     3.0  978301968\n",
       "3       1     3408     4.0  978300275\n",
       "4       1     2355     5.0  978824291"
      ]
     },
     "execution_count": 3,
     "metadata": {},
     "output_type": "execute_result"
    }
   ],
   "source": [
    "#Then we load data of size 1m\n",
    "\n",
    "MOVIELENS_DATA_SIZE = '1m'\n",
    "mldf_1m = movielens.load_pandas_df(\n",
    "    size=MOVIELENS_DATA_SIZE,\n",
    "    header=['userID','movieID','rating','timestamp']\n",
    ")\n",
    "mldf_1m.head()"
   ]
  },
  {
   "cell_type": "code",
   "execution_count": 4,
   "id": "d371fbfc",
   "metadata": {},
   "outputs": [],
   "source": [
    "#This is to make the conventions between the module common\n",
    "\n",
    "header = {\n",
    "        \"col_user\": \"userID\",\n",
    "        \"col_item\": \"movieID\",\n",
    "        \"col_rating\": \"rating\",\n",
    "    }"
   ]
  },
  {
   "cell_type": "code",
   "execution_count": 5,
   "id": "2b637d83",
   "metadata": {},
   "outputs": [
    {
     "name": "stdout",
     "output_type": "stream",
     "text": [
      "Matrix generated, sparseness percentage: 95\n"
     ]
    }
   ],
   "source": [
    "#This part will initiate a class \"AffinityMatrix\" and then generate a matrix for 1m dataset\n",
    "\n",
    "am1m = AffinityMatrix(df = mldf_1m, **header)\n",
    "X1m, _, _ = am1m.gen_affinity_matrix()"
   ]
  },
  {
   "cell_type": "code",
   "execution_count": 6,
   "id": "46d8160a",
   "metadata": {},
   "outputs": [],
   "source": [
    "#This will split it into test and train test\n",
    "\n",
    "Xtr_1m, Xtst_1m = numpy_stratified_split(X1m)"
   ]
  },
  {
   "cell_type": "code",
   "execution_count": 7,
   "id": "2795e565",
   "metadata": {},
   "outputs": [
    {
     "data": {
      "text/plain": [
       "[Text(0.5, 0, 'ratings'), Text(0, 0.5, 'density')]"
      ]
     },
     "execution_count": 7,
     "metadata": {},
     "output_type": "execute_result"
    },
    {
     "data": {
      "image/png": "[encoded data removed]",
      "text/plain": [
       "<Figure size 720x360 with 2 Axes>"
      ]
     },
     "metadata": {
      "needs_background": "light"
     },
     "output_type": "display_data"
    }
   ],
   "source": [
    "#This will plot a density vs rating graph to the most preferred rating for 1m data\n",
    "#This part is for illustration of dataset only\n",
    "\n",
    "_, (ax1m, ax2m) = plt.subplots(1, 2, sharey=True, figsize=(10,5))\n",
    "ax1m.hist(Xtr_1m[Xtr_1m !=0], 5, density= True)\n",
    "ax1m.set_title('Train')\n",
    "ax1m.set(xlabel=\"ratings\", ylabel=\"density\")\n",
    "ax2m.hist(Xtst_1m[Xtst_1m !=0], 5, density= True)\n",
    "ax2m.set_title('Test')\n",
    "ax2m.set(xlabel=\"ratings\", ylabel=\"density\")"
   ]
  },
  {
   "cell_type": "code",
   "execution_count": 8,
   "id": "f64ccd71",
   "metadata": {},
   "outputs": [
    {
     "name": "stdout",
     "output_type": "stream",
     "text": [
      "Matrix generated, sparseness percentage: 93\n"
     ]
    }
   ],
   "source": [
    "#This part will initiate a class \"AffinityMatrix\" and then generate a matrix for 100k dataset\n",
    "#It will then split it into test and train set\n",
    "\n",
    "am100k = AffinityMatrix(df = mldf_100k, **header)\n",
    "X100k, _, _= am100k.gen_affinity_matrix()\n",
    "Xtr_100k, Xtst_100k = numpy_stratified_split(X100k)"
   ]
  },
  {
   "cell_type": "code",
   "execution_count": 9,
   "id": "694c3c29",
   "metadata": {},
   "outputs": [
    {
     "data": {
      "text/plain": [
       "[Text(0.5, 0, 'ratings'), Text(0, 0.5, 'density')]"
      ]
     },
     "execution_count": 9,
     "metadata": {},
     "output_type": "execute_result"
    },
    {
     "data": {
      "image/png": "[encoded data removed]",
      "text/plain": [
       "<Figure size 720x360 with 2 Axes>"
      ]
     },
     "metadata": {
      "needs_background": "light"
     },
     "output_type": "display_data"
    }
   ],
   "source": [
    "#This will plot a density vs rating graph to the most preferred rating for 100k data\n",
    "#This part is for illustration of dataset only\n",
    "\n",
    "_, (ax1k, ax2k) = plt.subplots(1, 2, sharey=True, figsize=(10,5))\n",
    "ax1k.hist(Xtr_100k[Xtr_100k !=0], 5, density= True)\n",
    "ax1k.set_title('Train')\n",
    "ax1k.set(xlabel=\"ratings\", ylabel=\"density\")\n",
    "ax2k.hist(Xtst_100k[Xtst_100k !=0], 5, density= True)\n",
    "ax2k.set_title('Test')\n",
    "ax2k.set(xlabel=\"ratings\", ylabel=\"density\")"
   ]
  },
  {
   "cell_type": "code",
   "execution_count": 10,
   "id": "e608e38f",
   "metadata": {},
   "outputs": [],
   "source": [
    "#This function will create a dataset with row containing evaluation parameters\n",
    "#These parameters are mean average precision, normalized discounted cumulative gain for k, precision for k and recall for k\n",
    "\n",
    "def ranking_metrics(data_size, data_true, data_pred, K):\n",
    "    eval_map = map_at_k(data_true, data_pred, col_user=\"userID\", col_item=\"movieID\", \n",
    "                    col_rating=\"rating\", col_prediction=\"prediction\", \n",
    "                    relevancy_method=\"top_k\", k= K)\n",
    "    eval_ndcg = ndcg_at_k(data_true, data_pred, col_user=\"userID\", col_item=\"movieID\", \n",
    "                      col_rating=\"rating\", col_prediction=\"prediction\", \n",
    "                      relevancy_method=\"top_k\", k= K)\n",
    "    eval_precision = precision_at_k(data_true, data_pred, col_user=\"userID\", col_item=\"movieID\", \n",
    "                               col_rating=\"rating\", col_prediction=\"prediction\", \n",
    "                               relevancy_method=\"top_k\", k= K)\n",
    "    eval_recall = recall_at_k(data_true, data_pred, col_user=\"userID\", col_item=\"movieID\", \n",
    "                          col_rating=\"rating\", col_prediction=\"prediction\", \n",
    "                          relevancy_method=\"top_k\", k= K)\n",
    "    df_result = pd.DataFrame(\n",
    "        {   \"Dataset\": data_size,\n",
    "            \"K\": K,\n",
    "            \"MAP\": eval_map,\n",
    "            \"nDCG@k\": eval_ndcg,\n",
    "            \"Precision@k\": eval_precision,\n",
    "            \"Recall@k\": eval_recall,\n",
    "        }, \n",
    "        index=[0]\n",
    "    )\n",
    "    return df_result"
   ]
  },
  {
   "cell_type": "code",
   "execution_count": 11,
   "id": "603e3685",
   "metadata": {},
   "outputs": [
    {
     "name": "stdout",
     "output_type": "stream",
     "text": [
      "Creating the computational graph\n",
      "Initialize Gibbs protocol\n"
     ]
    }
   ],
   "source": [
    "#This will initiate an RBM model for 1m data\n",
    "\n",
    "model_1m = RBM(\n",
    "    possible_ratings=np.setdiff1d(np.unique(Xtr_1m), np.array([0])),\n",
    "    visible_units=Xtr_1m.shape[1],\n",
    "    hidden_units=1200,\n",
    "    training_epoch=30,\n",
    "    minibatch_size=350,\n",
    "    with_metrics=True\n",
    ")"
   ]
  },
  {
   "cell_type": "code",
   "execution_count": 12,
   "id": "21e23498",
   "metadata": {},
   "outputs": [
    {
     "name": "stdout",
     "output_type": "stream",
     "text": [
      "training epoch 0 rmse 1.684005\n",
      "training epoch 10 rmse 1.629187\n",
      "training epoch 20 rmse 1.589981\n",
      "training epoch 30 rmse 1.561749\n",
      "Took 150.58 seconds for training.\n"
     ]
    },
    {
     "data": {
      "image/png": "[encoded data removed]",
      "text/plain": [
       "<Figure size 360x360 with 1 Axes>"
      ]
     },
     "metadata": {
      "needs_background": "light"
     },
     "output_type": "display_data"
    }
   ],
   "source": [
    "#This will use the affinity matrix to make a neural network for 1m data\n",
    "#Also, it will print epoch vs rmse graph\n",
    "\n",
    "with Timer() as train_time:\n",
    "    model_1m.fit(Xtr_1m)\n",
    "print(\"Took {:.2f} seconds for training.\".format(train_time.interval))\n",
    "line_graph(values=model_1m.rmse_train, labels='train', x_name='epoch', y_name='rmse_train')"
   ]
  },
  {
   "cell_type": "code",
   "execution_count": 13,
   "id": "eddad03d",
   "metadata": {},
   "outputs": [
    {
     "name": "stdout",
     "output_type": "stream",
     "text": [
      "Extracting top 10 elements\n",
      "Took 4.85 seconds for prediction.\n"
     ]
    }
   ],
   "source": [
    "#This will return top k cecommendations for any user from 1m dataset\n",
    "\n",
    "K = 10\n",
    "with Timer() as prediction_time:\n",
    "    top_k_1m =  model_1m.recommend_k_items(Xtst_1m)\n",
    "print(\"Took {:.2f} seconds for prediction.\".format(prediction_time.interval))"
   ]
  },
  {
   "cell_type": "code",
   "execution_count": 14,
   "id": "7bad0224",
   "metadata": {},
   "outputs": [],
   "source": [
    "#Map back 1m dataframe to affinity matrix for both test and train data\n",
    "\n",
    "top_k_df_1m = am1m.map_back_sparse(top_k_1m, kind = 'prediction')\n",
    "test_df_1m = am1m.map_back_sparse(Xtst_1m, kind = 'ratings')"
   ]
  },
  {
   "cell_type": "code",
   "execution_count": 15,
   "id": "e5151484",
   "metadata": {},
   "outputs": [
    {
     "data": {
      "text/html": [
       "<div>\n",
       "<style scoped>\n",
       "    .dataframe tbody tr th:only-of-type {\n",
       "        vertical-align: middle;\n",
       "    }\n",
       "\n",
       "    .dataframe tbody tr th {\n",
       "        vertical-align: top;\n",
       "    }\n",
       "\n",
       "    .dataframe thead th {\n",
       "        text-align: right;\n",
       "    }\n",
       "</style>\n",
       "<table border=\"1\" class=\"dataframe\">\n",
       "  <thead>\n",
       "    <tr style=\"text-align: right;\">\n",
       "      <th></th>\n",
       "      <th>Dataset</th>\n",
       "      <th>K</th>\n",
       "      <th>MAP</th>\n",
       "      <th>nDCG@k</th>\n",
       "      <th>Precision@k</th>\n",
       "      <th>Recall@k</th>\n",
       "    </tr>\n",
       "  </thead>\n",
       "  <tbody>\n",
       "    <tr>\n",
       "      <th>0</th>\n",
       "      <td>mv 1m</td>\n",
       "      <td>10</td>\n",
       "      <td>0.269761</td>\n",
       "      <td>0.678074</td>\n",
       "      <td>0.573709</td>\n",
       "      <td>0.310044</td>\n",
       "    </tr>\n",
       "  </tbody>\n",
       "</table>\n",
       "</div>"
      ],
      "text/plain": [
       "  Dataset   K       MAP    nDCG@k  Precision@k  Recall@k\n",
       "0   mv 1m  10  0.269761  0.678074     0.573709  0.310044"
      ]
     },
     "execution_count": 15,
     "metadata": {},
     "output_type": "execute_result"
    }
   ],
   "source": [
    "#It will call evaluation functions to show the exact results for 1m data\n",
    "\n",
    "rating_1m= ranking_metrics( data_size = \"mv 1m\", data_true = test_df_1m, data_pred = top_k_df_1m, K =10)\n",
    "rating_1m"
   ]
  },
  {
   "cell_type": "code",
   "execution_count": 16,
   "id": "9731fc1e",
   "metadata": {},
   "outputs": [
    {
     "name": "stdout",
     "output_type": "stream",
     "text": [
      "Creating the computational graph\n",
      "Initialize Gibbs protocol\n"
     ]
    }
   ],
   "source": [
    "#This will initiate an RBM model for 100k data\n",
    "\n",
    "model_100k = RBM(\n",
    "    possible_ratings=np.setdiff1d(np.unique(Xtr_100k), np.array([0])),\n",
    "    visible_units=Xtr_100k.shape[1],\n",
    "    hidden_units=600,\n",
    "    training_epoch=30,\n",
    "    minibatch_size=60,\n",
    "    keep_prob=0.9,\n",
    "    with_metrics=True\n",
    ")"
   ]
  },
  {
   "cell_type": "code",
   "execution_count": 17,
   "id": "cc1932c5",
   "metadata": {},
   "outputs": [
    {
     "name": "stdout",
     "output_type": "stream",
     "text": [
      "training epoch 0 rmse 1.799352\n",
      "training epoch 10 rmse 1.717608\n",
      "training epoch 20 rmse 1.698314\n",
      "training epoch 30 rmse 1.691965\n",
      "Took 10.62 seconds for training.\n"
     ]
    },
    {
     "data": {
      "image/png": "[encoded data removed]",
      "text/plain": [
       "<Figure size 360x360 with 1 Axes>"
      ]
     },
     "metadata": {
      "needs_background": "light"
     },
     "output_type": "display_data"
    }
   ],
   "source": [
    "#This will use the affinity matrix to make a neural network for 100k data\n",
    "#Also, it will print epoch vs rmse graph\n",
    "\n",
    "with Timer() as train_time:\n",
    "    model_100k.fit(Xtr_100k)\n",
    "print(\"Took {:.2f} seconds for training.\".format(train_time.interval))\n",
    "line_graph(values=model_100k.rmse_train, labels='train', x_name='epoch', y_name='rmse_train')"
   ]
  },
  {
   "cell_type": "code",
   "execution_count": 18,
   "id": "c0a2b222",
   "metadata": {},
   "outputs": [
    {
     "name": "stdout",
     "output_type": "stream",
     "text": [
      "Extracting top 10 elements\n",
      "Took 0.37 seconds for prediction.\n"
     ]
    }
   ],
   "source": [
    "#This will return top k cecommendations for any user from 100k dataset\n",
    "#Map back 100k dataframe to affinity matrix for both test and train data\n",
    "\n",
    "with Timer() as prediction_time:\n",
    "    top_k_100k =  model_100k.recommend_k_items(Xtst_100k)\n",
    "print(\"Took {:.2f} seconds for prediction.\".format(prediction_time.interval))\n",
    "top_k_df_100k = am100k.map_back_sparse(top_k_100k, kind = 'prediction')\n",
    "test_df_100k = am100k.map_back_sparse(Xtst_100k, kind = 'ratings')"
   ]
  },
  {
   "cell_type": "code",
   "execution_count": 19,
   "id": "c2306102",
   "metadata": {},
   "outputs": [
    {
     "data": {
      "text/html": [
       "<div>\n",
       "<style scoped>\n",
       "    .dataframe tbody tr th:only-of-type {\n",
       "        vertical-align: middle;\n",
       "    }\n",
       "\n",
       "    .dataframe tbody tr th {\n",
       "        vertical-align: top;\n",
       "    }\n",
       "\n",
       "    .dataframe thead th {\n",
       "        text-align: right;\n",
       "    }\n",
       "</style>\n",
       "<table border=\"1\" class=\"dataframe\">\n",
       "  <thead>\n",
       "    <tr style=\"text-align: right;\">\n",
       "      <th></th>\n",
       "      <th>Dataset</th>\n",
       "      <th>K</th>\n",
       "      <th>MAP</th>\n",
       "      <th>nDCG@k</th>\n",
       "      <th>Precision@k</th>\n",
       "      <th>Recall@k</th>\n",
       "    </tr>\n",
       "  </thead>\n",
       "  <tbody>\n",
       "    <tr>\n",
       "      <th>0</th>\n",
       "      <td>mv 100k</td>\n",
       "      <td>10</td>\n",
       "      <td>0.142792</td>\n",
       "      <td>0.414968</td>\n",
       "      <td>0.341145</td>\n",
       "      <td>0.215792</td>\n",
       "    </tr>\n",
       "  </tbody>\n",
       "</table>\n",
       "</div>"
      ],
      "text/plain": [
       "   Dataset   K       MAP    nDCG@k  Precision@k  Recall@k\n",
       "0  mv 100k  10  0.142792  0.414968     0.341145  0.215792"
      ]
     },
     "execution_count": 19,
     "metadata": {},
     "output_type": "execute_result"
    }
   ],
   "source": [
    "#It will call evaluation functions to show the exact results for 100k data\n",
    "\n",
    "eval_100k= ranking_metrics(data_size = \"mv 100k\", data_true =test_df_100k,  data_pred =top_k_df_100k, K=10) \n",
    "eval_100k"
   ]
  }
 ],
 "metadata": {
  "kernelspec": {
   "display_name": "Python 3",
   "language": "python",
   "name": "python3"
  },
  "language_info": {
   "codemirror_mode": {
    "name": "ipython",
    "version": 3
   },
   "file_extension": ".py",
   "mimetype": "text/x-python",
   "name": "python",
   "nbconvert_exporter": "python",
   "pygments_lexer": "ipython3",
   "version": "3.8.8"
  }
 },
 "nbformat": 4,
 "nbformat_minor": 5
}
